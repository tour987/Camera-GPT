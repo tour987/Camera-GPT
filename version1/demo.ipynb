{
 "cells": [
  {
   "cell_type": "markdown",
   "metadata": {},
   "source": [
    "用100条数据训练模型。\n"
   ]
  },
  {
   "cell_type": "markdown",
   "metadata": {},
   "source": [
    "# 1.下载模型"
   ]
  },
  {
   "cell_type": "code",
   "execution_count": 2,
   "metadata": {},
   "outputs": [
    {
     "data": {
      "text/plain": [
       "('./local_tokenizer\\\\tokenizer_config.json',\n",
       " './local_tokenizer\\\\special_tokens_map.json',\n",
       " './local_tokenizer\\\\tokenizer.json')"
      ]
     },
     "execution_count": 2,
     "metadata": {},
     "output_type": "execute_result"
    }
   ],
   "source": [
    "# Langboat/bloom-389m-zh\n",
    "\n",
    "from transformers import  pipeline, AutoModelForCausalLM, AutoTokenizer, DataCollatorForSeq2Seq\n",
    "\n",
    "model = AutoModelForCausalLM.from_pretrained('Langboat/bloom-389m-zh')\n",
    "tokenizer = AutoTokenizer.from_pretrained('Langboat/bloom-389m-zh')\n",
    "\n",
    "model.save_pretrained('./local_model')\n",
    "tokenizer.save_pretrained('./local_tokenizer')"
   ]
  },
  {
   "cell_type": "markdown",
   "metadata": {},
   "source": [
    "# 2.训练前效果"
   ]
  },
  {
   "cell_type": "code",
   "execution_count": 3,
   "metadata": {},
   "outputs": [
    {
     "name": "stderr",
     "output_type": "stream",
     "text": [
      "Device set to use cpu\n"
     ]
    }
   ],
   "source": [
    "pipe = pipeline('text-generation', model = model, tokenizer = tokenizer)"
   ]
  },
  {
   "cell_type": "code",
   "execution_count": 53,
   "metadata": {},
   "outputs": [
    {
     "data": {
      "text/plain": [
       "[{'generated_text': '拍摄快速移动的鸟类，同时保留鸟类鸟背和细节，获得细节丰富的鸟图库'}]"
      ]
     },
     "execution_count": 53,
     "metadata": {},
     "output_type": "execute_result"
    }
   ],
   "source": [
    "pipe('拍摄快速移动的鸟类', max_length = 100, do_sample = True, temperature = 0.8)"
   ]
  },
  {
   "cell_type": "markdown",
   "metadata": {},
   "source": [
    "# 3. 处理训练数据"
   ]
  },
  {
   "cell_type": "code",
   "execution_count": 9,
   "metadata": {},
   "outputs": [],
   "source": [
    "import re\n",
    "import pandas as pd\n",
    "\n",
    "with open('./generated_data_text.txt', 'r', encoding = 'utf-8') as f:\n",
    "    text = f.read()\n",
    "\n",
    "pattern = r'Instruction:(.*?)\\nInput:(.*?)\\nOutput:(.*?)(?:\\n\\n|$)'\n",
    "matches = re.findall(pattern, text, re.DOTALL)\n",
    "\n",
    "df = pd.DataFrame(matches, columns = ['Instruction', 'Input', 'Output'])\n",
    "\n",
    "\n",
    "\n"
   ]
  },
  {
   "cell_type": "code",
   "execution_count": 60,
   "metadata": {},
   "outputs": [
    {
     "data": {
      "text/html": [
       "<div>\n",
       "<style scoped>\n",
       "    .dataframe tbody tr th:only-of-type {\n",
       "        vertical-align: middle;\n",
       "    }\n",
       "\n",
       "    .dataframe tbody tr th {\n",
       "        vertical-align: top;\n",
       "    }\n",
       "\n",
       "    .dataframe thead th {\n",
       "        text-align: right;\n",
       "    }\n",
       "</style>\n",
       "<table border=\"1\" class=\"dataframe\">\n",
       "  <thead>\n",
       "    <tr style=\"text-align: right;\">\n",
       "      <th></th>\n",
       "      <th>Instruction</th>\n",
       "      <th>Input</th>\n",
       "      <th>Output</th>\n",
       "    </tr>\n",
       "  </thead>\n",
       "  <tbody>\n",
       "    <tr>\n",
       "      <th>0</th>\n",
       "      <td>调整相机的光圈以创建浅景深效果。</td>\n",
       "      <td>当前光圈设置：f/8</td>\n",
       "      <td>将光圈更改为 f/2.8，使背景模糊，主体对焦清晰。</td>\n",
       "    </tr>\n",
       "    <tr>\n",
       "      <th>1</th>\n",
       "      <td>设置相机的快门速度以冻结快速移动物体的运动。</td>\n",
       "      <td>以 60 公里/小时的速度行驶的汽车</td>\n",
       "      <td>快门速度设置为 1/1000 秒，清晰地捕捉汽车，没有运动模糊。</td>\n",
       "    </tr>\n",
       "    <tr>\n",
       "      <th>2</th>\n",
       "      <td>为室内照明配置白平衡。</td>\n",
       "      <td>荧光灯照明条件</td>\n",
       "      <td>白平衡设置为荧光灯预设（约 4000K），产生自然色彩。</td>\n",
       "    </tr>\n",
       "    <tr>\n",
       "      <th>3</th>\n",
       "      <td>启用 HDR 模式进行高对比度风景摄影。</td>\n",
       "      <td>明亮的天空和黑暗的前景</td>\n",
       "      <td>已激活 HDR 模式，结合多次曝光以保留高光和阴影中的细节。</td>\n",
       "    </tr>\n",
       "    <tr>\n",
       "      <th>4</th>\n",
       "      <td>使用三分法构图拍摄肖像照片。</td>\n",
       "      <td>主体站在纯色背景前</td>\n",
       "      <td>主体位于三分法网格的交叉点，形成平衡的构图。</td>\n",
       "    </tr>\n",
       "    <tr>\n",
       "      <th>5</th>\n",
       "      <td>设置 ISO 以进行低光摄影，而不会引入太多噪点。</td>\n",
       "      <td>室内音乐会，灯光昏暗</td>\n",
       "      <td>ISO 设置为 1600，提供足够的曝光，同时保持可接受的噪点水平。</td>\n",
       "    </tr>\n",
       "    <tr>\n",
       "      <th>6</th>\n",
       "      <td>使用手动对焦拍摄花朵的微距照片。</td>\n",
       "      <td>小花，细节复杂</td>\n",
       "      <td>手动调整焦距，以清晰的细节突出花朵的花蕊和花瓣。</td>\n",
       "    </tr>\n",
       "    <tr>\n",
       "      <th>7</th>\n",
       "      <td>配置连拍模式进行体育摄影。</td>\n",
       "      <td>足球运动员奔向球门</td>\n",
       "      <td>以 10 fps 启用连拍模式，捕捉球员动作的序列。</td>\n",
       "    </tr>\n",
       "    <tr>\n",
       "      <th>8</th>\n",
       "      <td>应用长曝光进行夜间摄影。</td>\n",
       "      <td>有行驶汽车的城市风光</td>\n",
       "      <td>使用 30 秒曝光，从汽车前灯和尾灯创建光迹。</td>\n",
       "    </tr>\n",
       "    <tr>\n",
       "      <th>9</th>\n",
       "      <td>使用偏光滤镜减少水面反射。</td>\n",
       "      <td>具有强烈阳光反射的湖泊</td>\n",
       "      <td>旋转偏光滤镜以最大限度地减少反射，从而显示水下细节。</td>\n",
       "    </tr>\n",
       "    <tr>\n",
       "      <th>10</th>\n",
       "      <td>如何在尼康相机上设置3D跟踪对焦模式</td>\n",
       "      <td>拍摄快速移动的鸟类</td>\n",
       "      <td>进入对焦模式菜单，选择3D跟踪模式，相机将自动跟踪鸟类的运动轨迹</td>\n",
       "    </tr>\n",
       "    <tr>\n",
       "      <th>11</th>\n",
       "      <td>激活尼康相机的动态D-Lighting功能</td>\n",
       "      <td>高对比度场景，如逆光人像</td>\n",
       "      <td>动态D-Lighting设置为自动，保留高光和阴影细节，获得更平衡的曝光</td>\n",
       "    </tr>\n",
       "    <tr>\n",
       "      <th>12</th>\n",
       "      <td>配置尼康相机的双卡槽备份功能</td>\n",
       "      <td>重要活动拍摄</td>\n",
       "      <td>主卡槽和副卡槽设置为同时记录，确保数据安全</td>\n",
       "    </tr>\n",
       "    <tr>\n",
       "      <th>13</th>\n",
       "      <td>使用尼康相机的间隔拍摄功能</td>\n",
       "      <td>拍摄日落延时视频</td>\n",
       "      <td>间隔时间设置为5秒，拍摄张数设置为200，生成流畅的日落延时视频</td>\n",
       "    </tr>\n",
       "    <tr>\n",
       "      <th>14</th>\n",
       "      <td>启用尼康相机的静音拍摄模式</td>\n",
       "      <td>在安静场所拍摄</td>\n",
       "      <td>进入拍摄菜单，选择静音拍摄模式，减少快门噪音</td>\n",
       "    </tr>\n",
       "    <tr>\n",
       "      <th>15</th>\n",
       "      <td>设置尼康相机的自定义白平衡</td>\n",
       "      <td>复杂灯光环境下的产品拍摄</td>\n",
       "      <td>使用灰卡进行自定义白平衡设置，获得准确的颜色还原</td>\n",
       "    </tr>\n",
       "    <tr>\n",
       "      <th>16</th>\n",
       "      <td>使用尼康相机的点白平衡功能</td>\n",
       "      <td>混合光源下的室内人像</td>\n",
       "      <td>选择点白平衡，对准人物面部测光，获得自然肤色</td>\n",
       "    </tr>\n",
       "    <tr>\n",
       "      <th>17</th>\n",
       "      <td>配置尼康相机的自动ISO最小快门速度</td>\n",
       "      <td>手持拍摄夜景</td>\n",
       "      <td>最小快门速度设置为1/60秒，ISO自动调整，确保画面清晰</td>\n",
       "    </tr>\n",
       "    <tr>\n",
       "      <th>18</th>\n",
       "      <td>使用尼康相机的对焦微调功能</td>\n",
       "      <td>镜头出现轻微对焦偏移</td>\n",
       "      <td>进入AF微调菜单，进行+3微调，解决对焦不准问题</td>\n",
       "    </tr>\n",
       "    <tr>\n",
       "      <th>19</th>\n",
       "      <td>设置尼康相机的自定义控制按钮</td>\n",
       "      <td>快速切换对焦模式</td>\n",
       "      <td>Fn按钮设置为对焦模式切换，提高拍摄效率</td>\n",
       "    </tr>\n",
       "  </tbody>\n",
       "</table>\n",
       "</div>"
      ],
      "text/plain": [
       "                  Instruction               Input  \\\n",
       "0            调整相机的光圈以创建浅景深效果。          当前光圈设置：f/8   \n",
       "1      设置相机的快门速度以冻结快速移动物体的运动。  以 60 公里/小时的速度行驶的汽车   \n",
       "2                 为室内照明配置白平衡。             荧光灯照明条件   \n",
       "3        启用 HDR 模式进行高对比度风景摄影。         明亮的天空和黑暗的前景   \n",
       "4              使用三分法构图拍摄肖像照片。           主体站在纯色背景前   \n",
       "5   设置 ISO 以进行低光摄影，而不会引入太多噪点。          室内音乐会，灯光昏暗   \n",
       "6            使用手动对焦拍摄花朵的微距照片。             小花，细节复杂   \n",
       "7               配置连拍模式进行体育摄影。           足球运动员奔向球门   \n",
       "8                应用长曝光进行夜间摄影。          有行驶汽车的城市风光   \n",
       "9               使用偏光滤镜减少水面反射。         具有强烈阳光反射的湖泊   \n",
       "10         如何在尼康相机上设置3D跟踪对焦模式           拍摄快速移动的鸟类   \n",
       "11      激活尼康相机的动态D-Lighting功能        高对比度场景，如逆光人像   \n",
       "12             配置尼康相机的双卡槽备份功能              重要活动拍摄   \n",
       "13              使用尼康相机的间隔拍摄功能            拍摄日落延时视频   \n",
       "14              启用尼康相机的静音拍摄模式             在安静场所拍摄   \n",
       "15              设置尼康相机的自定义白平衡        复杂灯光环境下的产品拍摄   \n",
       "16              使用尼康相机的点白平衡功能          混合光源下的室内人像   \n",
       "17         配置尼康相机的自动ISO最小快门速度              手持拍摄夜景   \n",
       "18              使用尼康相机的对焦微调功能          镜头出现轻微对焦偏移   \n",
       "19             设置尼康相机的自定义控制按钮            快速切换对焦模式   \n",
       "\n",
       "                                   Output  \n",
       "0              将光圈更改为 f/2.8，使背景模糊，主体对焦清晰。  \n",
       "1        快门速度设置为 1/1000 秒，清晰地捕捉汽车，没有运动模糊。  \n",
       "2            白平衡设置为荧光灯预设（约 4000K），产生自然色彩。  \n",
       "3          已激活 HDR 模式，结合多次曝光以保留高光和阴影中的细节。  \n",
       "4                  主体位于三分法网格的交叉点，形成平衡的构图。  \n",
       "5      ISO 设置为 1600，提供足够的曝光，同时保持可接受的噪点水平。  \n",
       "6                手动调整焦距，以清晰的细节突出花朵的花蕊和花瓣。  \n",
       "7              以 10 fps 启用连拍模式，捕捉球员动作的序列。  \n",
       "8                 使用 30 秒曝光，从汽车前灯和尾灯创建光迹。  \n",
       "9              旋转偏光滤镜以最大限度地减少反射，从而显示水下细节。  \n",
       "10       进入对焦模式菜单，选择3D跟踪模式，相机将自动跟踪鸟类的运动轨迹  \n",
       "11   动态D-Lighting设置为自动，保留高光和阴影细节，获得更平衡的曝光  \n",
       "12                  主卡槽和副卡槽设置为同时记录，确保数据安全  \n",
       "13       间隔时间设置为5秒，拍摄张数设置为200，生成流畅的日落延时视频  \n",
       "14                 进入拍摄菜单，选择静音拍摄模式，减少快门噪音  \n",
       "15               使用灰卡进行自定义白平衡设置，获得准确的颜色还原  \n",
       "16                 选择点白平衡，对准人物面部测光，获得自然肤色  \n",
       "17          最小快门速度设置为1/60秒，ISO自动调整，确保画面清晰  \n",
       "18               进入AF微调菜单，进行+3微调，解决对焦不准问题  \n",
       "19                   Fn按钮设置为对焦模式切换，提高拍摄效率  "
      ]
     },
     "execution_count": 60,
     "metadata": {},
     "output_type": "execute_result"
    }
   ],
   "source": [
    "df[:20]"
   ]
  },
  {
   "cell_type": "code",
   "execution_count": 11,
   "metadata": {},
   "outputs": [],
   "source": [
    "from datasets import Dataset, DatasetDict\n",
    "\n",
    "dataset = Dataset.from_pandas(df)"
   ]
  },
  {
   "cell_type": "code",
   "execution_count": 12,
   "metadata": {},
   "outputs": [
    {
     "data": {
      "text/plain": [
       "Dataset({\n",
       "    features: ['Instruction', 'Input', 'Output'],\n",
       "    num_rows: 100\n",
       "})"
      ]
     },
     "execution_count": 12,
     "metadata": {},
     "output_type": "execute_result"
    }
   ],
   "source": [
    "dataset"
   ]
  },
  {
   "cell_type": "markdown",
   "metadata": {},
   "source": [
    "# 4. 定义process_func函数"
   ]
  },
  {
   "cell_type": "code",
   "execution_count": 40,
   "metadata": {},
   "outputs": [],
   "source": [
    "def process_func(example):\n",
    "    input_ids, attention_mask, labels = [], [], []\n",
    "    instruction = tokenizer('\\n'.join(['User: ' + example['Instruction'], example['Input']]).strip() + '\\n\\nAssistant: ')\n",
    "    response = tokenizer(example['Output'] + tokenizer.eos_token)\n",
    "\n",
    "    input_ids = instruction['input_ids'] + response['input_ids']\n",
    "    attenton_mask = instruction['attention_mask'] + response['attention_mask']\n",
    "\n",
    "    # instruction是tokenized后的数据，直接取len()为2\n",
    "    labels = [-100] * len(instruction['input_ids']) + response['input_ids']\n",
    "    \n",
    "    max_length = 256\n",
    "    if len(input_ids) > max_length:\n",
    "        input_ids = input_ids[:max_length]\n",
    "        attention_mask = attention_mask[:max_length]\n",
    "        labels = labels[:max_length]\n",
    "    \n",
    "    return {\n",
    "        'input_ids': input_ids, \n",
    "        'attention_mask': attenton_mask, \n",
    "        'labels': labels\n",
    "    }"
   ]
  },
  {
   "cell_type": "markdown",
   "metadata": {},
   "source": [
    "没有必要用DatasetDict, 直接用Dataset对象就够用了。因为map()函数使用process_func时反而不需要train列。"
   ]
  },
  {
   "cell_type": "code",
   "execution_count": 41,
   "metadata": {},
   "outputs": [
    {
     "name": "stderr",
     "output_type": "stream",
     "text": [
      "Map: 100%|██████████| 100/100 [00:00<00:00, 2300.40 examples/s]\n"
     ]
    }
   ],
   "source": [
    "tokenized_dataset = dataset.map(process_func, remove_columns = dataset.column_names)"
   ]
  },
  {
   "cell_type": "code",
   "execution_count": 42,
   "metadata": {},
   "outputs": [
    {
     "data": {
      "text/plain": [
       "Dataset({\n",
       "    features: ['input_ids', 'attention_mask', 'labels'],\n",
       "    num_rows: 100\n",
       "})"
      ]
     },
     "execution_count": 42,
     "metadata": {},
     "output_type": "execute_result"
    }
   ],
   "source": [
    "tokenized_dataset"
   ]
  },
  {
   "cell_type": "markdown",
   "metadata": {},
   "source": [
    "# 5. 定义args和trainer，模型训练"
   ]
  },
  {
   "cell_type": "code",
   "execution_count": 49,
   "metadata": {},
   "outputs": [],
   "source": [
    "from transformers import TrainingArguments, Trainer\n",
    "\n",
    "args = TrainingArguments(\n",
    "    logging_steps = 1, \n",
    "    per_device_train_batch_size = 4, \n",
    "    output_dir = './trained_model', \n",
    "    num_train_epochs = 2, \n",
    "    gradient_accumulation_steps = 8\n",
    "\n",
    ")"
   ]
  },
  {
   "cell_type": "code",
   "execution_count": 50,
   "metadata": {},
   "outputs": [],
   "source": [
    "trainer = Trainer(\n",
    "    args = args,\n",
    "    model = model, \n",
    "    data_collator = DataCollatorForSeq2Seq(tokenizer = tokenizer, padding = True),\n",
    "    train_dataset = tokenized_dataset\n",
    "\n",
    ")"
   ]
  },
  {
   "cell_type": "code",
   "execution_count": 51,
   "metadata": {},
   "outputs": [
    {
     "data": {
      "text/html": [
       "\n",
       "    <div>\n",
       "      \n",
       "      <progress value='6' max='6' style='width:300px; height:20px; vertical-align: middle;'></progress>\n",
       "      [6/6 02:11, Epoch 1/2]\n",
       "    </div>\n",
       "    <table border=\"1\" class=\"dataframe\">\n",
       "  <thead>\n",
       " <tr style=\"text-align: left;\">\n",
       "      <th>Step</th>\n",
       "      <th>Training Loss</th>\n",
       "    </tr>\n",
       "  </thead>\n",
       "  <tbody>\n",
       "    <tr>\n",
       "      <td>1</td>\n",
       "      <td>17.690200</td>\n",
       "    </tr>\n",
       "    <tr>\n",
       "      <td>2</td>\n",
       "      <td>24.149800</td>\n",
       "    </tr>\n",
       "    <tr>\n",
       "      <td>3</td>\n",
       "      <td>18.959400</td>\n",
       "    </tr>\n",
       "    <tr>\n",
       "      <td>4</td>\n",
       "      <td>2.292800</td>\n",
       "    </tr>\n",
       "    <tr>\n",
       "      <td>5</td>\n",
       "      <td>10.603900</td>\n",
       "    </tr>\n",
       "    <tr>\n",
       "      <td>6</td>\n",
       "      <td>11.777100</td>\n",
       "    </tr>\n",
       "  </tbody>\n",
       "</table><p>"
      ],
      "text/plain": [
       "<IPython.core.display.HTML object>"
      ]
     },
     "metadata": {},
     "output_type": "display_data"
    },
    {
     "data": {
      "text/plain": [
       "TrainOutput(global_step=6, training_loss=14.245525399843851, metrics={'train_runtime': 160.1928, 'train_samples_per_second': 1.248, 'train_steps_per_second': 0.037, 'total_flos': 22281712140288.0, 'train_loss': 14.245525399843851, 'epoch': 1.6400000000000001})"
      ]
     },
     "execution_count": 51,
     "metadata": {},
     "output_type": "execute_result"
    }
   ],
   "source": [
    "trainer.train()"
   ]
  },
  {
   "cell_type": "markdown",
   "metadata": {},
   "source": [
    "# 6. 模型效果"
   ]
  },
  {
   "cell_type": "code",
   "execution_count": 56,
   "metadata": {},
   "outputs": [
    {
     "name": "stderr",
     "output_type": "stream",
     "text": [
      "Device set to use cpu\n"
     ]
    }
   ],
   "source": [
    "pipe2 = pipeline('text-generation', model = './trained_model/checkpoint-6', tokenizer = tokenizer)"
   ]
  },
  {
   "cell_type": "code",
   "execution_count": 61,
   "metadata": {},
   "outputs": [
    {
     "data": {
      "text/plain": [
       "[{'generated_text': '拍摄快速移动的鸟类，为获得清晰的鸟类的面部信息，对焦距离适当增加，获得更准确的鸟类的面部特征信息'}]"
      ]
     },
     "execution_count": 61,
     "metadata": {},
     "output_type": "execute_result"
    }
   ],
   "source": [
    "pipe2('拍摄快速移动的鸟类', max_length = 100, do_sample = True, temperature = 0.8)"
   ]
  },
  {
   "cell_type": "code",
   "execution_count": null,
   "metadata": {},
   "outputs": [],
   "source": []
  },
  {
   "attachments": {
    "image.png": {
     "image/png": "[encoded data removed]"
    }
   },
   "cell_type": "markdown",
   "metadata": {},
   "source": [
    "## 训练数据：\n",
    "![image.png](attachment:image.png)"
   ]
  },
  {
   "attachments": {
    "image.png": {
     "image/png": "[encoded data removed]"
    }
   },
   "cell_type": "markdown",
   "metadata": {},
   "source": [
    "## 训练前效果：\n",
    "![image.png](attachment:image.png)"
   ]
  },
  {
   "attachments": {
    "image.png": {
     "image/png": "[encoded data removed]"
    }
   },
   "cell_type": "markdown",
   "metadata": {},
   "source": [
    "## 训练后效果\n",
    "![image.png](attachment:image.png)"
   ]
  }
 ],
 "metadata": {
  "kernelspec": {
   "display_name": "transformers",
   "language": "python",
   "name": "python3"
  },
  "language_info": {
   "codemirror_mode": {
    "name": "ipython",
    "version": 3
   },
   "file_extension": ".py",
   "mimetype": "text/x-python",
   "name": "python",
   "nbconvert_exporter": "python",
   "pygments_lexer": "ipython3",
   "version": "3.9.21"
  }
 },
 "nbformat": 4,
 "nbformat_minor": 2
}
