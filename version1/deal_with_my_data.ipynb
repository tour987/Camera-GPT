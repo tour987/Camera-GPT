{
 "cells": [
  {
   "cell_type": "markdown",
   "metadata": {},
   "source": [
    "# 数据格式转换 and 预实验"
   ]
  },
  {
   "cell_type": "markdown",
   "metadata": {},
   "source": [
    "本notebook目标是将txt格式的instruction数据转化成可以提供给模型训练的arrow格式，并用含100条数据的arrow格式训练模型，看看效果。"
   ]
  },
  {
   "cell_type": "code",
   "execution_count": 1,
   "metadata": {},
   "outputs": [],
   "source": [
    "import re\n",
    "import pandas as pd\n",
    "\n",
    "# 4打开文件\n",
    "with open('./generated_data_text.txt', 'r', encoding = 'utf-8') as f:\n",
    "    text = f.read()\n",
    "\n",
    "# 使用正则表达式提取 Instruction、Input 和 Output\n",
    "pattern = r\"Instruction:(.*?)\\nInput:(.*?)\\nOutput:(.*?)(?:\\n\\n|$)\"\n",
    "matches = re.findall(pattern, text, re.DOTALL)\n",
    "\n",
    "# 将提取的数据转换为 DataFrame\n",
    "df = pd.DataFrame(matches, columns=[\"Instruction\", \"Input\", \"Output\"])\n"
   ]
  },
  {
   "cell_type": "markdown",
   "metadata": {},
   "source": [
    "注意冒号是中文还是英文，这会影响正则表达式"
   ]
  },
  {
   "cell_type": "code",
   "execution_count": 2,
   "metadata": {},
   "outputs": [
    {
     "data": {
      "text/plain": [
       "100"
      ]
     },
     "execution_count": 2,
     "metadata": {},
     "output_type": "execute_result"
    }
   ],
   "source": [
    "len(df)"
   ]
  },
  {
   "cell_type": "code",
   "execution_count": 14,
   "metadata": {},
   "outputs": [
    {
     "name": "stdout",
     "output_type": "stream",
     "text": [
      "Dataset({\n",
      "    features: ['Instruction', 'Input', 'Output'],\n",
      "    num_rows: 100\n",
      "})\n"
     ]
    }
   ],
   "source": [
    "# 也可以直接用dataframe, 不需要转化为arrow格式\n",
    "from datasets import Dataset\n",
    "dataset = Dataset.from_pandas(df)\n",
    "\n",
    "print(dataset)"
   ]
  },
  {
   "cell_type": "markdown",
   "metadata": {},
   "source": [
    "直接用Dataset.from_pandas()得到是Dataset对象，不是DatasetDict对象，因此不包含train, test等属性。   \n",
    "   \n",
    "接下来把Dataset对象转化为DatasetaDict对象，这样就可以跳过arrow文件直接得到合适的训练数据。"
   ]
  },
  {
   "cell_type": "code",
   "execution_count": 16,
   "metadata": {},
   "outputs": [],
   "source": [
    "from datasets import DatasetDict\n",
    "\n",
    "true_dataset = DatasetDict({\n",
    "    'train': dataset\n",
    "})"
   ]
  },
  {
   "cell_type": "code",
   "execution_count": 17,
   "metadata": {},
   "outputs": [
    {
     "data": {
      "text/plain": [
       "DatasetDict({\n",
       "    train: Dataset({\n",
       "        features: ['Instruction', 'Input', 'Output'],\n",
       "        num_rows: 100\n",
       "    })\n",
       "})"
      ]
     },
     "execution_count": 17,
     "metadata": {},
     "output_type": "execute_result"
    }
   ],
   "source": [
    "true_dataset"
   ]
  },
  {
   "cell_type": "markdown",
   "metadata": {},
   "source": [
    "数据的标准处理流程：\n",
    "1. alpaca方法生成数据\n",
    "2. 用正则表达式对数据进行切割，放到dataframe里面\n",
    "3. 用Dataset.from_pandas()方法从dataframe得到Dataset对象\n",
    "4. 用DatasetDict()将Dataset对象转换为DatasetDict对象，从而包含train, test等属性\n"
   ]
  },
  {
   "cell_type": "markdown",
   "metadata": {},
   "source": [
    "1.22 今天能做到把txt文件转换"
   ]
  }
 ],
 "metadata": {
  "kernelspec": {
   "display_name": "transformers",
   "language": "python",
   "name": "python3"
  },
  "language_info": {
   "codemirror_mode": {
    "name": "ipython",
    "version": 3
   },
   "file_extension": ".py",
   "mimetype": "text/x-python",
   "name": "python",
   "nbconvert_exporter": "python",
   "pygments_lexer": "ipython3",
   "version": "3.9.21"
  }
 },
 "nbformat": 4,
 "nbformat_minor": 2
}
